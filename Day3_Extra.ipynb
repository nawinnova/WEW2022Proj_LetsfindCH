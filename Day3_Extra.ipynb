{
 "cells": [
  {
   "cell_type": "code",
   "execution_count": 1,
   "id": "a1438cf5-2bb1-4f84-996f-0752e5f27e61",
   "metadata": {},
   "outputs": [],
   "source": [
    "import pandas as pd\n",
    "import matplotlib.pyplot as plt"
   ]
  },
  {
   "cell_type": "markdown",
   "id": "5bcc387f-1e3a-4f0a-949b-773c80f500f3",
   "metadata": {},
   "source": [
    "Upload your Excel or CSV file in colab session"
   ]
  },
  {
   "cell_type": "code",
   "execution_count": null,
   "id": "ed938340-4769-4a00-ab90-9e3dc27f02f3",
   "metadata": {},
   "outputs": [],
   "source": [
    "#Read Excel file\n",
    "data = pd.read_excel(\"filename.xlsx\")\n",
    "#Read CSV file\n",
    "data = pd.read_csv(\"filename.csv\")"
   ]
  },
  {
   "cell_type": "code",
   "execution_count": null,
   "id": "fb110562-502a-47b0-b88a-51eafee7bbe8",
   "metadata": {},
   "outputs": [],
   "source": [
    "date = pd.to_datetime(data['Date'])"
   ]
  },
  {
   "cell_type": "code",
   "execution_count": null,
   "id": "89960100-9184-4d1f-b799-84c26532e35d",
   "metadata": {},
   "outputs": [],
   "source": [
    "figplot = plt.figure(figsize=(6,10))\n",
    "figplot.suptitle('Evolution of CH properties from (input your first at date)')\n",
    "ax0 = figplot.add_subplot(5,1,1)\n",
    "ax0.plot(date, data['Area (Mm^2)'],'-x')\n",
    "ax0.set_ylabel('Area (Mm^2)')\n",
    "ax0.tick_params(axis='x', labelbottom=False) # labels along the bottom edge are off\n",
    "ax0.legend()\n",
    "ax0.text(-0.2, 0.95, 'a)', transform=ax0.transAxes, size=10)\n",
    "ax1 = figplot.add_subplot(5,1,2,sharex=ax0)\n",
    "ax1.plot(date, data['Positive Flux (10^16 Mx)'],'-rx', label='Positive Flux')\n",
    "ax1.set_ylabel(r'Magnetic Flux ($10^{16}$ Mx)')\n",
    "ax1.legend()\n",
    "ax1.tick_params(axis='x', labelbottom=False)\n",
    "ax1.text(-0.2, 0.95, 'b)', transform=ax1.transAxes, size=10)\n",
    "ax2 = figplot.add_subplot(5,1,3, sharex=ax0)\n",
    "ax2.plot(date, np.abs(data['Negative Flux (10^16 Mx)']),'-bx', label='Negative Flux (Abs)')\n",
    "ax2.set_ylabel(r'Magnetic Flux ($10^{16}$ Mx)')\n",
    "ax2.legend()\n",
    "ax2.tick_params(axis='x', labelbottom=False)\n",
    "ax2.text(-0.2, 0.95, 'c)', transform=ax2.transAxes, size=10)\n",
    "ax3 = figplot.add_subplot(5,1,4, sharex=ax0)\n",
    "ax3.plot(date, data['Unbalanced Flux (10^16 Mx)'],'-mx', label='Unbalanced Flux')\n",
    "ax3.set_ylabel(r'Magnetic Flux ($10^{16}$ Mx)')\n",
    "ax3.legend()\n",
    "ax3.tick_params(axis='x', labelbottom=False)\n",
    "ax3.text(-0.2, 0.95, 'd)', transform=ax3.transAxes, size=10)\n",
    "ax4 = figplot.add_subplot(5,1,5, sharex=ax0)\n",
    "ax4.plot(date, np.abs(data['Unsigned Flux (10^16 Mx)']),'-gx', label='Unsigned Flux')\n",
    "ax4.set_ylabel(r'Magnetic Flux ($10^{16}$ Mx)')\n",
    "ax4.set_xlabel('Date')\n",
    "ax4.legend()\n",
    "ax4.text(-0.2, 0.95, 'e)', transform=ax4.transAxes, size=10)\n",
    "plt.tight_layout()\n",
    "plt.subplots_adjust(hspace=0)"
   ]
  },
  {
   "cell_type": "code",
   "execution_count": null,
   "id": "026f31ee-842f-4e40-a396-361383344fab",
   "metadata": {},
   "outputs": [],
   "source": [
    "figplot.savefig('CHBproperties.png')"
   ]
  }
 ],
 "metadata": {
  "kernelspec": {
   "display_name": "Python 3 (ipykernel)",
   "language": "python",
   "name": "python3"
  },
  "language_info": {
   "codemirror_mode": {
    "name": "ipython",
    "version": 3
   },
   "file_extension": ".py",
   "mimetype": "text/x-python",
   "name": "python",
   "nbconvert_exporter": "python",
   "pygments_lexer": "ipython3",
   "version": "3.8.13"
  }
 },
 "nbformat": 4,
 "nbformat_minor": 5
}
